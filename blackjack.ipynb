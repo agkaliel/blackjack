{
 "metadata": {
  "name": "",
  "signature": "sha256:4cb861d11a0742e804711e5aa3d70658c596c49bde8f27b2831df853991e2e11"
 },
 "nbformat": 3,
 "nbformat_minor": 0,
 "worksheets": [
  {
   "cells": [
    {
     "cell_type": "code",
     "collapsed": false,
     "input": [
      "import random\n",
      "\n",
      "def calc(hand):\n",
      "    \"\"\"\n",
      "    calculate the valud of the given hand\n",
      "    >>> calc(['AS', '10D'])\n",
      "    21\n",
      "    >>> calc(['AS', '10D', '3H'])\n",
      "    14\n",
      "    >>> calc(['AS', '7D', '3H'])\n",
      "    21\n",
      "    >>> calc(['AS', '6D', '3H'])\n",
      "    20\n",
      "    >>> calc(['2S', '3D'])\n",
      "    5\n",
      "    >>> calc(['8C', '7H', '9D'])\n",
      "    24\n",
      "    \"\"\"\n",
      "    total = 0\n",
      "    num_aces = 0\n",
      "    for c in hand:\n",
      "        if c[0] == 'A':\n",
      "            num_aces += 1\n",
      "        elif c[0] in FACE_CARDS or c[0] == '1':\n",
      "            total += 10\n",
      "        else:\n",
      "            total += int(c[0])\n",
      "    # if total is greater than 10 the aces must count as 1s\n",
      "    if total > 10 or num_aces == 0:\n",
      "        return total + num_aces\n",
      "    else:\n",
      "        return total + 11 + (num_aces-1)\n",
      "\n",
      "def display_hand(name, cards):\n",
      "    print(\"{} has {}\".format(name, tuple(cards)))\n",
      "\n",
      "    \n",
      "    \n",
      "num_decks = 2\n",
      "SUITS = ['S', 'C', 'H', 'D']\n",
      "FACE_CARDS = ['J', 'Q', 'K']\n",
      "FACES = ['A']+[str(i) for i in range(1, 11)]+FACE_CARDS\n",
      "DECK = [\"{}{}\".format(f, s) for s in SUITS for f in FACES]\n",
      "\n",
      "decks = [c for c in DECK*num_decks]\n",
      "random.shuffle(decks)\n",
      "\n",
      "dealer_hand, decks = decks[0:2], decks[2:]\n",
      "display_hand(\"Dealer\", dealer_hand)\n",
      "player_hand, decks = decks[0:2], decks[2:]\n",
      "display_hand(\"Player\", player_hand)\n",
      "bet = 1\n",
      "\n",
      "    \n",
      "choice = 'h'\n",
      "while choice != 's':\n",
      "    choice = input(\"Player hits, stands, or doubles? h, s, d\")\n",
      "    if choice == 'h' or choice == 'd':\n",
      "        deal = decks.pop()\n",
      "        player_hand.append(deal)\n",
      "        print(\"Player receives {}\".format(deal))\n",
      "        if choice == 'd':\n",
      "            bet = 2*bet\n",
      "            choice = 's'\n",
      "    elif choice == 's':\n",
      "        print(\"Player stays at {}\".format(calc(player_hand)))\n",
      "    else:\n",
      "        print(\"Sorry, didn't understand.\")\n",
      "if calc(player_hand) > 21:\n",
      "    print(\"Player went bust\")\n",
      "\n",
      "print(\"Dealer goes.\")\n",
      "while calc(dealer_hand) < 17:\n",
      "    dealer_hand.append(decks.pop())   \n",
      "    \n",
      "d = calc(dealer_hand)\n",
      "p = calc(player_hand)\n",
      "display_hand(\"Dealer\", dealer_hand)\n",
      "\n",
      "if d > 21:\n",
      "    print(\"Dealer went bust\")\n",
      "    if p > 21:\n",
      "        print(\"Tie\")\n",
      "    else:\n",
      "        print(\"Win for Player\")\n",
      "elif p > d:\n",
      "    print(\"Win for Player\")\n",
      "elif p==d:\n",
      "    print(\"Tie\")\n",
      "else:\n",
      "    print(\"Win for Dealer\")"
     ],
     "language": "python",
     "metadata": {},
     "outputs": [
      {
       "output_type": "stream",
       "stream": "stdout",
       "text": [
        "Dealer has ('2H', '7S')\n",
        "Player has ('10S', '6D')\n"
       ]
      },
      {
       "name": "stdout",
       "output_type": "stream",
       "stream": "stdout",
       "text": [
        "Player hits, stands, or doubles? h, s, dh\n"
       ]
      },
      {
       "output_type": "stream",
       "stream": "stdout",
       "text": [
        "Player receives 4C\n"
       ]
      },
      {
       "name": "stdout",
       "output_type": "stream",
       "stream": "stdout",
       "text": [
        "Player hits, stands, or doubles? h, s, ds\n"
       ]
      },
      {
       "output_type": "stream",
       "stream": "stdout",
       "text": [
        "Player stays at 20\n",
        "Dealer goes.\n",
        "Dealer has ('2H', '7S', 'JC')\n",
        "Win for Player\n"
       ]
      }
     ],
     "prompt_number": 19
    },
    {
     "cell_type": "code",
     "collapsed": false,
     "input": [],
     "language": "python",
     "metadata": {},
     "outputs": [
      {
       "metadata": {},
       "output_type": "pyout",
       "prompt_number": 15,
       "text": [
        "24"
       ]
      }
     ],
     "prompt_number": 15
    }
   ],
   "metadata": {}
  }
 ]
}